{
 "cells": [
  {
   "cell_type": "code",
   "execution_count": 1,
   "id": "0218d3fd",
   "metadata": {},
   "outputs": [],
   "source": [
    "import csv\n",
    "from bs4 import BeautifulSoup\n",
    "import pandas as pd\n",
    "from selenium import webdriver"
   ]
  },
  {
   "cell_type": "code",
   "execution_count": 2,
   "id": "0c68473d",
   "metadata": {},
   "outputs": [],
   "source": [
    "driver = webdriver.Chrome()"
   ]
  },
  {
   "cell_type": "code",
   "execution_count": 3,
   "id": "6710f71c",
   "metadata": {},
   "outputs": [],
   "source": [
    "url = 'https://www.lazada.co.th'\n",
    "driver.get(url)"
   ]
  },
  {
   "cell_type": "code",
   "execution_count": 4,
   "id": "ab0d0da5",
   "metadata": {},
   "outputs": [],
   "source": [
    "def get_url(search_term):\n",
    "    template = 'https://www.lazada.co.th/catalog/?q={}&_keyori=ss&from=input&spm=a2o4m.searchlist.search.go.6f07238aWg4pHR'\n",
    "    search_term = search_term.replace(' ' , '+')\n",
    "    return template.format(search_term)"
   ]
  },
  {
   "cell_type": "code",
   "execution_count": 5,
   "id": "c7590fd6",
   "metadata": {},
   "outputs": [
    {
     "name": "stdout",
     "output_type": "stream",
     "text": [
      "https://www.lazada.co.th/catalog/?q=สมุนไพร&_keyori=ss&from=input&spm=a2o4m.searchlist.search.go.6f07238aWg4pHR\n"
     ]
    }
   ],
   "source": [
    "url = get_url('สมุนไพร')\n",
    "print(url)"
   ]
  },
  {
   "cell_type": "code",
   "execution_count": 6,
   "id": "61c6f6f2",
   "metadata": {},
   "outputs": [],
   "source": [
    "driver.get(url)"
   ]
  },
  {
   "cell_type": "code",
   "execution_count": 7,
   "id": "dce79c7f",
   "metadata": {},
   "outputs": [],
   "source": [
    "soup = BeautifulSoup(driver.page_source,'html.parser')"
   ]
  },
  {
   "cell_type": "code",
   "execution_count": 8,
   "id": "e8695507",
   "metadata": {},
   "outputs": [],
   "source": [
    "results = soup.find_all('div',{'class':'Bm3ON'})"
   ]
  },
  {
   "cell_type": "code",
   "execution_count": 9,
   "id": "9195b16d",
   "metadata": {},
   "outputs": [
    {
     "data": {
      "text/plain": [
       "40"
      ]
     },
     "execution_count": 9,
     "metadata": {},
     "output_type": "execute_result"
    }
   ],
   "source": [
    "len(results)"
   ]
  },
  {
   "cell_type": "code",
   "execution_count": 10,
   "id": "d9719c18",
   "metadata": {},
   "outputs": [
    {
     "data": {
      "text/plain": [
       "'ส่งฟรี !! กดเก็บคูปองส่งฟรีที่หน้าร้าน ชา มาลี แบบชง แบบต้ม ชาสมุนไพรมาลี เครื่องดื่มสมุนไพร ชาสุขภาพ กาแฟ โกโก้ กาแฟมาลี'"
      ]
     },
     "execution_count": 10,
     "metadata": {},
     "output_type": "execute_result"
    }
   ],
   "source": [
    "results[0].find('div',{'class':'RfADt'}).get_text()"
   ]
  },
  {
   "cell_type": "code",
   "execution_count": 11,
   "id": "d4adc999",
   "metadata": {},
   "outputs": [
    {
     "data": {
      "text/plain": [
       "'฿99.00'"
      ]
     },
     "execution_count": 11,
     "metadata": {},
     "output_type": "execute_result"
    }
   ],
   "source": [
    "results[0].find('span',{'class':'ooOxS'}).get_text()"
   ]
  },
  {
   "cell_type": "code",
   "execution_count": 12,
   "id": "39166ed3",
   "metadata": {},
   "outputs": [
    {
     "data": {
      "text/plain": [
       "'(627)'"
      ]
     },
     "execution_count": 12,
     "metadata": {},
     "output_type": "execute_result"
    }
   ],
   "source": [
    "results[0].find('div',{'class':'mdmmT _32vUv'}).get_text()"
   ]
  },
  {
   "cell_type": "code",
   "execution_count": 13,
   "id": "5a80b9e8",
   "metadata": {},
   "outputs": [
    {
     "data": {
      "text/plain": [
       "'Nakhon Phanom'"
      ]
     },
     "execution_count": 13,
     "metadata": {},
     "output_type": "execute_result"
    }
   ],
   "source": [
    "results[0].find('span',{'class':'oa6ri'}).get_text()"
   ]
  },
  {
   "cell_type": "code",
   "execution_count": 14,
   "id": "9f106500",
   "metadata": {},
   "outputs": [],
   "source": [
    "relative_url = results[0].find('a',{'age':'0'}).get('href')"
   ]
  },
  {
   "cell_type": "code",
   "execution_count": 15,
   "id": "93f9f482",
   "metadata": {},
   "outputs": [
    {
     "data": {
      "text/plain": [
       "'//www.lazada.co.th/products/-i3592365383.html'"
      ]
     },
     "execution_count": 15,
     "metadata": {},
     "output_type": "execute_result"
    }
   ],
   "source": [
    "relative_url"
   ]
  },
  {
   "cell_type": "markdown",
   "id": "a92c399b",
   "metadata": {},
   "source": [
    "# Scraping 1 - 21 page"
   ]
  },
  {
   "cell_type": "code",
   "execution_count": 16,
   "id": "ab537e7d",
   "metadata": {},
   "outputs": [],
   "source": [
    "product_name = []\n",
    "product_price = []\n",
    "review_count = []\n",
    "location = []\n",
    "url = []\n",
    "\n",
    "for i in range(1,21):\n",
    "    website = 'https://www.lazada.co.th/catalog/?_keyori=ss&from=input&page=&q=%E0%B8%AA%E0%B8%A1%E0%B8%B8%E0%B8%99%E0%B9%84%E0%B8%9E%E0%B8%A3&spm=a2o4m.searchlist.search.go.6f07238aWg4pHR' + str(i)\n",
    "    driver.get(website)\n",
    "    soup = BeautifulSoup(driver.page_source,'html.parser')\n",
    "    results = soup.find_all('div',{'class':'Bm3ON'})\n",
    "    \n",
    "    for result in results:\n",
    "        try:\n",
    "            product_name.append(result.find('div',{'class':'RfADt'}).get_text())\n",
    "        except:\n",
    "            product_name.append('n/a')\n",
    "        try:\n",
    "            product_price.append(result.find('span',{'class':'ooOxS'}).get_text())\n",
    "        except:\n",
    "            product_price.append('n/a')\n",
    "        try:\n",
    "            review_count.append(result.find('div',{'class':'mdmmT _32vUv'}).get_text())\n",
    "        except:\n",
    "            review_count.append('n/a')\n",
    "        try:\n",
    "            location.append(result.find('span',{'class':'oa6ri'}).get_text())\n",
    "        except:\n",
    "            location.append('n/a')\n",
    "        try:\n",
    "            url.append(result.find('a',{'age':'0'}).get('href'))\n",
    "        except:\n",
    "            url.append('n/a')"
   ]
  },
  {
   "cell_type": "code",
   "execution_count": 17,
   "id": "eb318589",
   "metadata": {},
   "outputs": [],
   "source": [
    "HerbProduct_Lazada = pd.DataFrame({'NameProduct':product_name , 'Price':product_price ,'no_Review':review_count , 'Location':location , 'Link':url})"
   ]
  },
  {
   "cell_type": "code",
   "execution_count": 18,
   "id": "fdd7844f",
   "metadata": {
    "scrolled": true
   },
   "outputs": [
    {
     "data": {
      "text/html": [
       "<div>\n",
       "<style scoped>\n",
       "    .dataframe tbody tr th:only-of-type {\n",
       "        vertical-align: middle;\n",
       "    }\n",
       "\n",
       "    .dataframe tbody tr th {\n",
       "        vertical-align: top;\n",
       "    }\n",
       "\n",
       "    .dataframe thead th {\n",
       "        text-align: right;\n",
       "    }\n",
       "</style>\n",
       "<table border=\"1\" class=\"dataframe\">\n",
       "  <thead>\n",
       "    <tr style=\"text-align: right;\">\n",
       "      <th></th>\n",
       "      <th>NameProduct</th>\n",
       "      <th>Price</th>\n",
       "      <th>no_Review</th>\n",
       "      <th>Location</th>\n",
       "      <th>Link</th>\n",
       "    </tr>\n",
       "  </thead>\n",
       "  <tbody>\n",
       "    <tr>\n",
       "      <th>0</th>\n",
       "      <td>ส่งฟรี !! กดเก็บคูปองส่งฟรีที่หน้าร้าน ชา มาลี...</td>\n",
       "      <td>฿99.00</td>\n",
       "      <td>(627)</td>\n",
       "      <td>Nakhon Phanom</td>\n",
       "      <td>//www.lazada.co.th/products/-i3592365383.html</td>\n",
       "    </tr>\n",
       "    <tr>\n",
       "      <th>1</th>\n",
       "      <td>ชามาลี ชาสมุนไพรมาลี เครื่องดื่มสมุนไพร ชาสุขภ...</td>\n",
       "      <td>฿104.00</td>\n",
       "      <td>(461)</td>\n",
       "      <td>Bangkok</td>\n",
       "      <td>//www.lazada.co.th/products/1-i3434976246.html</td>\n",
       "    </tr>\n",
       "    <tr>\n",
       "      <th>2</th>\n",
       "      <td>🍹[1 แถม 1 ซอง] ชาไทย ชาผอม Ban Sirinapa บ้านศิ...</td>\n",
       "      <td>฿200.00</td>\n",
       "      <td>(1)</td>\n",
       "      <td>Chachoengsao</td>\n",
       "      <td>//www.lazada.co.th/products/1-1-ban-sirinapa-i...</td>\n",
       "    </tr>\n",
       "    <tr>\n",
       "      <th>3</th>\n",
       "      <td>ชาชเอมส่งฟรีตัวดังในติ๊กต๊อก ‼️ สมุนไพร 9 ชนิด...</td>\n",
       "      <td>฿290.00</td>\n",
       "      <td>(8)</td>\n",
       "      <td>Phetchabun</td>\n",
       "      <td>//www.lazada.co.th/products/9-i4142043238.html</td>\n",
       "    </tr>\n",
       "    <tr>\n",
       "      <th>4</th>\n",
       "      <td>ถั่วสมุนไพร​เครื่องแน่น​ จัดเต็ม​​-ไม่ใส่ผงชูร...</td>\n",
       "      <td>฿75.00</td>\n",
       "      <td>(1)</td>\n",
       "      <td>Chiang Rai</td>\n",
       "      <td>//www.lazada.co.th/products/-i4126230333.html</td>\n",
       "    </tr>\n",
       "    <tr>\n",
       "      <th>...</th>\n",
       "      <td>...</td>\n",
       "      <td>...</td>\n",
       "      <td>...</td>\n",
       "      <td>...</td>\n",
       "      <td>...</td>\n",
       "    </tr>\n",
       "    <tr>\n",
       "      <th>795</th>\n",
       "      <td>รุ่นใหม่! ชามาลีแบบผง ชนิด ชง ชาสมุนไพร ชนิดชง...</td>\n",
       "      <td>฿157.00</td>\n",
       "      <td>(192)</td>\n",
       "      <td>Bangkok</td>\n",
       "      <td>//www.lazada.co.th/products/1-i3825719118.html</td>\n",
       "    </tr>\n",
       "    <tr>\n",
       "      <th>796</th>\n",
       "      <td>ชามาลี ของแท้ (พร้อมส่ง)</td>\n",
       "      <td>฿99.00</td>\n",
       "      <td>(2472)</td>\n",
       "      <td>Bangkok</td>\n",
       "      <td>//www.lazada.co.th/products/-i3111532871.html</td>\n",
       "    </tr>\n",
       "    <tr>\n",
       "      <th>797</th>\n",
       "      <td>ชามาลีสมุนไพร mali ชนิดต้มมาลีร้าย ออเกนิค ( 1...</td>\n",
       "      <td>฿36.00</td>\n",
       "      <td>(48)</td>\n",
       "      <td>Bangkok</td>\n",
       "      <td>//www.lazada.co.th/products/mali-1-i3962091851...</td>\n",
       "    </tr>\n",
       "    <tr>\n",
       "      <th>798</th>\n",
       "      <td>[ของแท้ 100%] ชาบ้านศิรินภา ชาหน้าใส ฟื้นฟูผิว...</td>\n",
       "      <td>฿66.26</td>\n",
       "      <td>(137)</td>\n",
       "      <td>Samut Prakan</td>\n",
       "      <td>//www.lazada.co.th/products/100-thai-tea-i4130...</td>\n",
       "    </tr>\n",
       "    <tr>\n",
       "      <th>799</th>\n",
       "      <td>สมุนไพรมาลี ชาช่วยขับถ่าย (กล่องสีเขียว) แพ็คเ...</td>\n",
       "      <td>฿102.00</td>\n",
       "      <td>(472)</td>\n",
       "      <td>Bangkok</td>\n",
       "      <td>//www.lazada.co.th/products/-i3163166256.html</td>\n",
       "    </tr>\n",
       "  </tbody>\n",
       "</table>\n",
       "<p>800 rows × 5 columns</p>\n",
       "</div>"
      ],
      "text/plain": [
       "                                           NameProduct    Price no_Review  \\\n",
       "0    ส่งฟรี !! กดเก็บคูปองส่งฟรีที่หน้าร้าน ชา มาลี...   ฿99.00     (627)   \n",
       "1    ชามาลี ชาสมุนไพรมาลี เครื่องดื่มสมุนไพร ชาสุขภ...  ฿104.00     (461)   \n",
       "2    🍹[1 แถม 1 ซอง] ชาไทย ชาผอม Ban Sirinapa บ้านศิ...  ฿200.00       (1)   \n",
       "3    ชาชเอมส่งฟรีตัวดังในติ๊กต๊อก ‼️ สมุนไพร 9 ชนิด...  ฿290.00       (8)   \n",
       "4    ถั่วสมุนไพร​เครื่องแน่น​ จัดเต็ม​​-ไม่ใส่ผงชูร...   ฿75.00       (1)   \n",
       "..                                                 ...      ...       ...   \n",
       "795  รุ่นใหม่! ชามาลีแบบผง ชนิด ชง ชาสมุนไพร ชนิดชง...  ฿157.00     (192)   \n",
       "796                           ชามาลี ของแท้ (พร้อมส่ง)   ฿99.00    (2472)   \n",
       "797  ชามาลีสมุนไพร mali ชนิดต้มมาลีร้าย ออเกนิค ( 1...   ฿36.00      (48)   \n",
       "798  [ของแท้ 100%] ชาบ้านศิรินภา ชาหน้าใส ฟื้นฟูผิว...   ฿66.26     (137)   \n",
       "799  สมุนไพรมาลี ชาช่วยขับถ่าย (กล่องสีเขียว) แพ็คเ...  ฿102.00     (472)   \n",
       "\n",
       "          Location                                               Link  \n",
       "0    Nakhon Phanom      //www.lazada.co.th/products/-i3592365383.html  \n",
       "1          Bangkok     //www.lazada.co.th/products/1-i3434976246.html  \n",
       "2     Chachoengsao  //www.lazada.co.th/products/1-1-ban-sirinapa-i...  \n",
       "3       Phetchabun     //www.lazada.co.th/products/9-i4142043238.html  \n",
       "4       Chiang Rai      //www.lazada.co.th/products/-i4126230333.html  \n",
       "..             ...                                                ...  \n",
       "795        Bangkok     //www.lazada.co.th/products/1-i3825719118.html  \n",
       "796        Bangkok      //www.lazada.co.th/products/-i3111532871.html  \n",
       "797        Bangkok  //www.lazada.co.th/products/mali-1-i3962091851...  \n",
       "798   Samut Prakan  //www.lazada.co.th/products/100-thai-tea-i4130...  \n",
       "799        Bangkok      //www.lazada.co.th/products/-i3163166256.html  \n",
       "\n",
       "[800 rows x 5 columns]"
      ]
     },
     "execution_count": 18,
     "metadata": {},
     "output_type": "execute_result"
    }
   ],
   "source": [
    "HerbProduct_Lazada"
   ]
  },
  {
   "cell_type": "code",
   "execution_count": 19,
   "id": "beffa1b7",
   "metadata": {},
   "outputs": [],
   "source": [
    "HerbProduct_Lazada.to_excel('314_Herb_Product_Lazada.xlsx',index=False)"
   ]
  },
  {
   "cell_type": "code",
   "execution_count": null,
   "id": "f2dee98f",
   "metadata": {},
   "outputs": [],
   "source": []
  }
 ],
 "metadata": {
  "kernelspec": {
   "display_name": "Python 3 (ipykernel)",
   "language": "python",
   "name": "python3"
  },
  "language_info": {
   "codemirror_mode": {
    "name": "ipython",
    "version": 3
   },
   "file_extension": ".py",
   "mimetype": "text/x-python",
   "name": "python",
   "nbconvert_exporter": "python",
   "pygments_lexer": "ipython3",
   "version": "3.8.13"
  }
 },
 "nbformat": 4,
 "nbformat_minor": 5
}
